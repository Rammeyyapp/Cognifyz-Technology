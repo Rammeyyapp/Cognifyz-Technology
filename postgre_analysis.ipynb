{
 "cells": [
  {
   "cell_type": "code",
   "execution_count": 16,
   "id": "3951366d-994a-4f9e-80eb-7f4985c7471b",
   "metadata": {},
   "outputs": [
    {
     "name": "stderr",
     "output_type": "stream",
     "text": [
      "C:\\Users\\LAKSHMI AYYAPPAN\\AppData\\Local\\Temp\\ipykernel_16248\\4205530482.py:14: UserWarning: pandas only supports SQLAlchemy connectable (engine/connection) or database string URI or sqlite3 DBAPI2 connection. Other DBAPI2 objects are not tested. Please consider using SQLAlchemy.\n",
      "  data = pd.read_sql(query, connection)\n"
     ]
    }
   ],
   "source": [
    "import psycopg2\n",
    "import pandas as pd\n",
    "from sqlalchemy import create_engine\n",
    "\n",
    "connection = psycopg2.connect(\n",
    "    host=\"localhost\",   \n",
    "    database=\"Database-Name\", \n",
    "    user=\"User-Name\",     \n",
    "    password=\"Password\"   \n",
    ")\n",
    "\n",
    "query = \"SELECT * FROM investments\"\n",
    "\n",
    "data = pd.read_sql(query, connection)\n",
    "\n",
    "connection.close()\n"
   ]
  },
  {
   "cell_type": "code",
   "execution_count": 9,
   "id": "ff636b25-1f68-4cfd-832a-30df5909e5ee",
   "metadata": {},
   "outputs": [
    {
     "name": "stdout",
     "output_type": "stream",
     "text": [
      "<class 'pandas.core.frame.DataFrame'>\n",
      "RangeIndex: 40 entries, 0 to 39\n",
      "Data columns (total 24 columns):\n",
      " #   Column              Non-Null Count  Dtype  \n",
      "---  ------              --------------  -----  \n",
      " 0   gender              40 non-null     object \n",
      " 1   age                 40 non-null     int64  \n",
      " 2   investment_avenues  40 non-null     object \n",
      " 3   mutual_funds        40 non-null     float64\n",
      " 4   equity_market       40 non-null     float64\n",
      " 5   debentures          40 non-null     float64\n",
      " 6   government_bonds    40 non-null     float64\n",
      " 7   fixed_deposits      40 non-null     float64\n",
      " 8   ppf                 40 non-null     float64\n",
      " 9   gold                40 non-null     float64\n",
      " 10  stock_market        40 non-null     object \n",
      " 11  factor              40 non-null     object \n",
      " 12  objective           40 non-null     object \n",
      " 13  purpose             40 non-null     object \n",
      " 14  duration            40 non-null     object \n",
      " 15  invest_monitor      40 non-null     object \n",
      " 16  expect              40 non-null     object \n",
      " 17  avenue              40 non-null     object \n",
      " 18  savings_objectives  40 non-null     object \n",
      " 19  reason_equity       40 non-null     object \n",
      " 20  reason_mutual       40 non-null     object \n",
      " 21  reason_bonds        40 non-null     object \n",
      " 22  reason_fd           40 non-null     object \n",
      " 23  sources             40 non-null     object \n",
      "dtypes: float64(7), int64(1), object(16)\n",
      "memory usage: 7.6+ KB\n"
     ]
    }
   ],
   "source": [
    "data.info()"
   ]
  },
  {
   "cell_type": "code",
   "execution_count": 10,
   "id": "b64083a6-2ce5-4407-b3f7-d378f5b36f63",
   "metadata": {},
   "outputs": [
    {
     "data": {
      "text/html": [
       "<div>\n",
       "<style scoped>\n",
       "    .dataframe tbody tr th:only-of-type {\n",
       "        vertical-align: middle;\n",
       "    }\n",
       "\n",
       "    .dataframe tbody tr th {\n",
       "        vertical-align: top;\n",
       "    }\n",
       "\n",
       "    .dataframe thead th {\n",
       "        text-align: right;\n",
       "    }\n",
       "</style>\n",
       "<table border=\"1\" class=\"dataframe\">\n",
       "  <thead>\n",
       "    <tr style=\"text-align: right;\">\n",
       "      <th></th>\n",
       "      <th>age</th>\n",
       "      <th>mutual_funds</th>\n",
       "      <th>equity_market</th>\n",
       "      <th>debentures</th>\n",
       "      <th>government_bonds</th>\n",
       "      <th>fixed_deposits</th>\n",
       "      <th>ppf</th>\n",
       "      <th>gold</th>\n",
       "    </tr>\n",
       "  </thead>\n",
       "  <tbody>\n",
       "    <tr>\n",
       "      <th>count</th>\n",
       "      <td>40.000000</td>\n",
       "      <td>40.000000</td>\n",
       "      <td>40.000000</td>\n",
       "      <td>40.000000</td>\n",
       "      <td>40.000000</td>\n",
       "      <td>40.000000</td>\n",
       "      <td>40.00000</td>\n",
       "      <td>40.000000</td>\n",
       "    </tr>\n",
       "    <tr>\n",
       "      <th>mean</th>\n",
       "      <td>27.375000</td>\n",
       "      <td>2.575000</td>\n",
       "      <td>3.525000</td>\n",
       "      <td>5.700000</td>\n",
       "      <td>4.725000</td>\n",
       "      <td>3.475000</td>\n",
       "      <td>1.90000</td>\n",
       "      <td>6.100000</td>\n",
       "    </tr>\n",
       "    <tr>\n",
       "      <th>std</th>\n",
       "      <td>3.461788</td>\n",
       "      <td>1.174243</td>\n",
       "      <td>1.109111</td>\n",
       "      <td>1.667179</td>\n",
       "      <td>1.358497</td>\n",
       "      <td>1.709513</td>\n",
       "      <td>1.48151</td>\n",
       "      <td>1.104768</td>\n",
       "    </tr>\n",
       "    <tr>\n",
       "      <th>min</th>\n",
       "      <td>21.000000</td>\n",
       "      <td>1.000000</td>\n",
       "      <td>1.000000</td>\n",
       "      <td>1.000000</td>\n",
       "      <td>1.000000</td>\n",
       "      <td>1.000000</td>\n",
       "      <td>1.00000</td>\n",
       "      <td>2.000000</td>\n",
       "    </tr>\n",
       "    <tr>\n",
       "      <th>25%</th>\n",
       "      <td>25.000000</td>\n",
       "      <td>2.000000</td>\n",
       "      <td>3.000000</td>\n",
       "      <td>5.000000</td>\n",
       "      <td>4.000000</td>\n",
       "      <td>2.750000</td>\n",
       "      <td>1.00000</td>\n",
       "      <td>6.000000</td>\n",
       "    </tr>\n",
       "    <tr>\n",
       "      <th>50%</th>\n",
       "      <td>27.000000</td>\n",
       "      <td>2.000000</td>\n",
       "      <td>4.000000</td>\n",
       "      <td>6.000000</td>\n",
       "      <td>5.000000</td>\n",
       "      <td>3.000000</td>\n",
       "      <td>1.00000</td>\n",
       "      <td>6.000000</td>\n",
       "    </tr>\n",
       "    <tr>\n",
       "      <th>75%</th>\n",
       "      <td>29.250000</td>\n",
       "      <td>3.000000</td>\n",
       "      <td>4.000000</td>\n",
       "      <td>7.000000</td>\n",
       "      <td>5.250000</td>\n",
       "      <td>5.000000</td>\n",
       "      <td>2.00000</td>\n",
       "      <td>7.000000</td>\n",
       "    </tr>\n",
       "    <tr>\n",
       "      <th>max</th>\n",
       "      <td>35.000000</td>\n",
       "      <td>7.000000</td>\n",
       "      <td>6.000000</td>\n",
       "      <td>7.000000</td>\n",
       "      <td>7.000000</td>\n",
       "      <td>7.000000</td>\n",
       "      <td>6.00000</td>\n",
       "      <td>7.000000</td>\n",
       "    </tr>\n",
       "  </tbody>\n",
       "</table>\n",
       "</div>"
      ],
      "text/plain": [
       "             age  mutual_funds  equity_market  debentures  government_bonds  \\\n",
       "count  40.000000     40.000000      40.000000   40.000000         40.000000   \n",
       "mean   27.375000      2.575000       3.525000    5.700000          4.725000   \n",
       "std     3.461788      1.174243       1.109111    1.667179          1.358497   \n",
       "min    21.000000      1.000000       1.000000    1.000000          1.000000   \n",
       "25%    25.000000      2.000000       3.000000    5.000000          4.000000   \n",
       "50%    27.000000      2.000000       4.000000    6.000000          5.000000   \n",
       "75%    29.250000      3.000000       4.000000    7.000000          5.250000   \n",
       "max    35.000000      7.000000       6.000000    7.000000          7.000000   \n",
       "\n",
       "       fixed_deposits       ppf       gold  \n",
       "count       40.000000  40.00000  40.000000  \n",
       "mean         3.475000   1.90000   6.100000  \n",
       "std          1.709513   1.48151   1.104768  \n",
       "min          1.000000   1.00000   2.000000  \n",
       "25%          2.750000   1.00000   6.000000  \n",
       "50%          3.000000   1.00000   6.000000  \n",
       "75%          5.000000   2.00000   7.000000  \n",
       "max          7.000000   6.00000   7.000000  "
      ]
     },
     "execution_count": 10,
     "metadata": {},
     "output_type": "execute_result"
    }
   ],
   "source": [
    "data.describe()"
   ]
  },
  {
   "cell_type": "code",
   "execution_count": 11,
   "id": "f24a21c5-3a07-41c9-8b0d-10f737aa04d3",
   "metadata": {},
   "outputs": [
    {
     "data": {
      "text/plain": [
       "gender                0\n",
       "age                   0\n",
       "investment_avenues    0\n",
       "mutual_funds          0\n",
       "equity_market         0\n",
       "debentures            0\n",
       "government_bonds      0\n",
       "fixed_deposits        0\n",
       "ppf                   0\n",
       "gold                  0\n",
       "stock_market          0\n",
       "factor                0\n",
       "objective             0\n",
       "purpose               0\n",
       "duration              0\n",
       "invest_monitor        0\n",
       "expect                0\n",
       "avenue                0\n",
       "savings_objectives    0\n",
       "reason_equity         0\n",
       "reason_mutual         0\n",
       "reason_bonds          0\n",
       "reason_fd             0\n",
       "sources               0\n",
       "dtype: int64"
      ]
     },
     "execution_count": 11,
     "metadata": {},
     "output_type": "execute_result"
    }
   ],
   "source": [
    "data.isnull().sum()"
   ]
  },
  {
   "cell_type": "code",
   "execution_count": 12,
   "id": "fd9229c9-c7f7-4de9-a03f-9da8c172ddee",
   "metadata": {},
   "outputs": [
    {
     "data": {
      "text/plain": [
       "Text(0, 0.5, 'Count Of Gender')"
      ]
     },
     "execution_count": 12,
     "metadata": {},
     "output_type": "execute_result"
    },
    {
     "data": {
      "image/png": "[encoded data removed]",
      "text/plain": [
       "<Figure size 640x480 with 1 Axes>"
      ]
     },
     "metadata": {},
     "output_type": "display_data"
    }
   ],
   "source": [
    "import seaborn as sns\n",
    "import matplotlib.pyplot as plt\n",
    "gender_count=data[\"gender\"].value_counts()\n",
    "gender_count.plot(kind=\"bar\",color=['blue','lightpink'])\n",
    "plt.title(\"Distribution of genders\")\n",
    "plt.xlabel(\"Gender\")\n",
    "plt.ylabel(\"Count Of Gender\")"
   ]
  },
  {
   "cell_type": "code",
   "execution_count": 13,
   "id": "8f859fbb-3baf-42c2-b83a-c6d04d333ddb",
   "metadata": {},
   "outputs": [
    {
     "data": {
      "text/plain": [
       "Index(['age', 'mutual_funds', 'equity_market', 'debentures',\n",
       "       'government_bonds', 'fixed_deposits', 'ppf', 'gold'],\n",
       "      dtype='object')"
      ]
     },
     "execution_count": 13,
     "metadata": {},
     "output_type": "execute_result"
    }
   ],
   "source": [
    "numerical_columns=data.select_dtypes(include=['int64','float64']).columns\n",
    "numerical_columns"
   ]
  },
  {
   "cell_type": "code",
   "execution_count": 14,
   "id": "3524c878-9463-451f-8ae8-2d9d6a63374e",
   "metadata": {},
   "outputs": [
    {
     "data": {
      "text/html": [
       "<div>\n",
       "<style scoped>\n",
       "    .dataframe tbody tr th:only-of-type {\n",
       "        vertical-align: middle;\n",
       "    }\n",
       "\n",
       "    .dataframe tbody tr th {\n",
       "        vertical-align: top;\n",
       "    }\n",
       "\n",
       "    .dataframe thead th {\n",
       "        text-align: right;\n",
       "    }\n",
       "</style>\n",
       "<table border=\"1\" class=\"dataframe\">\n",
       "  <thead>\n",
       "    <tr style=\"text-align: right;\">\n",
       "      <th></th>\n",
       "      <th>age</th>\n",
       "      <th>mutual_funds</th>\n",
       "      <th>equity_market</th>\n",
       "      <th>debentures</th>\n",
       "      <th>government_bonds</th>\n",
       "      <th>fixed_deposits</th>\n",
       "      <th>ppf</th>\n",
       "      <th>gold</th>\n",
       "    </tr>\n",
       "  </thead>\n",
       "  <tbody>\n",
       "    <tr>\n",
       "      <th>mean</th>\n",
       "      <td>27.375000</td>\n",
       "      <td>2.575000</td>\n",
       "      <td>3.525000</td>\n",
       "      <td>5.700000</td>\n",
       "      <td>4.725000</td>\n",
       "      <td>3.475000</td>\n",
       "      <td>1.90000</td>\n",
       "      <td>6.100000</td>\n",
       "    </tr>\n",
       "    <tr>\n",
       "      <th>median</th>\n",
       "      <td>27.000000</td>\n",
       "      <td>2.000000</td>\n",
       "      <td>4.000000</td>\n",
       "      <td>6.000000</td>\n",
       "      <td>5.000000</td>\n",
       "      <td>3.000000</td>\n",
       "      <td>1.00000</td>\n",
       "      <td>6.000000</td>\n",
       "    </tr>\n",
       "    <tr>\n",
       "      <th>std</th>\n",
       "      <td>3.461788</td>\n",
       "      <td>1.174243</td>\n",
       "      <td>1.109111</td>\n",
       "      <td>1.667179</td>\n",
       "      <td>1.358497</td>\n",
       "      <td>1.709513</td>\n",
       "      <td>1.48151</td>\n",
       "      <td>1.104768</td>\n",
       "    </tr>\n",
       "  </tbody>\n",
       "</table>\n",
       "</div>"
      ],
      "text/plain": [
       "              age  mutual_funds  equity_market  debentures  government_bonds  \\\n",
       "mean    27.375000      2.575000       3.525000    5.700000          4.725000   \n",
       "median  27.000000      2.000000       4.000000    6.000000          5.000000   \n",
       "std      3.461788      1.174243       1.109111    1.667179          1.358497   \n",
       "\n",
       "        fixed_deposits      ppf      gold  \n",
       "mean          3.475000  1.90000  6.100000  \n",
       "median        3.000000  1.00000  6.000000  \n",
       "std           1.709513  1.48151  1.104768  "
      ]
     },
     "execution_count": 14,
     "metadata": {},
     "output_type": "execute_result"
    }
   ],
   "source": [
    "statiscal_analysis=data[numerical_columns].agg([\"mean\",\"median\",\"std\"])\n",
    "statiscal_analysis"
   ]
  },
  {
   "cell_type": "code",
   "execution_count": 18,
   "id": "17ca1695-38f8-4e82-a7ab-08275c7e6833",
   "metadata": {},
   "outputs": [
    {
     "data": {
      "text/plain": [
       "mutual_funds        2.0\n",
       "equity_market       4.0\n",
       "debentures          7.0\n",
       "government_bonds    5.0\n",
       "fixed_deposits      3.0\n",
       "ppf                 1.0\n",
       "gold                6.0\n",
       "Name: 0, dtype: float64"
      ]
     },
     "execution_count": 18,
     "metadata": {},
     "output_type": "execute_result"
    }
   ],
   "source": [
    "total_avenues=data[['mutual_funds', 'equity_market', 'debentures', 'government_bonds', 'fixed_deposits', 'ppf', 'gold']].mode().iloc[0]\n",
    "total_avenues"
   ]
  },
  {
   "cell_type": "code",
   "execution_count": 19,
   "id": "d8ae3db9-c42c-432a-bfb5-0d55339a4ab8",
   "metadata": {},
   "outputs": [
    {
     "name": "stdout",
     "output_type": "stream",
     "text": [
      "investment avenue with the highest frequency:  debentures\n"
     ]
    }
   ],
   "source": [
    "most_frequent_avenue = total_avenues.idxmax()\n",
    "print(\"investment avenue with the highest frequency: \",most_frequent_avenue)"
   ]
  },
  {
   "cell_type": "code",
   "execution_count": null,
   "id": "7fe8c7c7-85a1-42c9-8624-ef273aa6bcba",
   "metadata": {},
   "outputs": [],
   "source": []
  }
 ],
 "metadata": {
  "kernelspec": {
   "display_name": "Python 3 (ipykernel)",
   "language": "python",
   "name": "python3"
  },
  "language_info": {
   "codemirror_mode": {
    "name": "ipython",
    "version": 3
   },
   "file_extension": ".py",
   "mimetype": "text/x-python",
   "name": "python",
   "nbconvert_exporter": "python",
   "pygments_lexer": "ipython3",
   "version": "3.11.7"
  }
 },
 "nbformat": 4,
 "nbformat_minor": 5
}
